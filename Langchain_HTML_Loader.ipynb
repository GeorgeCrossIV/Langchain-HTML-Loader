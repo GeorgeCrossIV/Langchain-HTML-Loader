{
  "cells": [
    {
      "cell_type": "markdown",
      "metadata": {
        "id": "view-in-github",
        "colab_type": "text"
      },
      "source": [
        "<a href=\"https://colab.research.google.com/github/GeorgeCrossIV/Langchain-HTML-Loader/blob/main/Langchain_HTML_Loader.ipynb\" target=\"_parent\"><img src=\"https://colab.research.google.com/assets/colab-badge.svg\" alt=\"Open In Colab\"/></a>"
      ]
    },
    {
      "cell_type": "markdown",
      "id": "8ee0e82f-95fa-4efa-84e3-9873d4dcdaf1",
      "metadata": {
        "id": "8ee0e82f-95fa-4efa-84e3-9873d4dcdaf1"
      },
      "source": [
        "# Langchain - using HTML Loader\n",
        "This notebook uses the Langchain UnstructuredHTMLLoader function to load data from an HTML page.\n",
        "- This example will load a HTML page from https://en.wikipedia.org/wiki/Andouille. Two questions will be asked about the page."
      ]
    },
    {
      "cell_type": "markdown",
      "id": "2c1f964d-aa85-4b2f-a04c-71c295fe9d1e",
      "metadata": {
        "id": "2c1f964d-aa85-4b2f-a04c-71c295fe9d1e"
      },
      "source": [
        "# Setup\n",
        "- Be sure to set the Colab secrets for openai_api_key, cass_user, and cass_pw\n",
        "- set the keyspace and table variables. Make sure the keyspace exists. The table will be created.\n",
        "- load your secure connection bundle and update the scb_path variable to point to the the secure connection bundle"
      ]
    },
    {
      "cell_type": "code",
      "execution_count": null,
      "id": "3e57b18c-275c-40bf-8a71-bbb0c94b2a7b",
      "metadata": {
        "scrolled": true,
        "id": "3e57b18c-275c-40bf-8a71-bbb0c94b2a7b"
      },
      "outputs": [],
      "source": [
        "!pip install openai cassandra-driver langchain unstructured"
      ]
    },
    {
      "cell_type": "markdown",
      "id": "25d08ec4-0e7b-4819-933f-43ed5ff95e48",
      "metadata": {
        "id": "25d08ec4-0e7b-4819-933f-43ed5ff95e48"
      },
      "source": [
        "# Imports"
      ]
    },
    {
      "cell_type": "code",
      "execution_count": 2,
      "id": "01da99af-da9b-4f38-b841-d802ff23bf2f",
      "metadata": {
        "id": "01da99af-da9b-4f38-b841-d802ff23bf2f"
      },
      "outputs": [],
      "source": [
        "from cassandra.cluster import Cluster\n",
        "from cassandra.auth import PlainTextAuthProvider\n",
        "from cassandra.query import dict_factory\n",
        "from cassandra.query import SimpleStatement\n",
        "from langchain.document_loaders import UnstructuredHTMLLoader\n",
        "from google.colab import userdata\n",
        "import openai"
      ]
    },
    {
      "cell_type": "markdown",
      "id": "b7a93b64-e9e9-41d1-95c9-dc9194a5ec8d",
      "metadata": {
        "id": "b7a93b64-e9e9-41d1-95c9-dc9194a5ec8d"
      },
      "source": [
        "# Keys & Environment Variables"
      ]
    },
    {
      "cell_type": "code",
      "execution_count": 3,
      "id": "ebeb1df7-2dcc-4ba6-a941-49c68631bd49",
      "metadata": {
        "id": "ebeb1df7-2dcc-4ba6-a941-49c68631bd49"
      },
      "outputs": [],
      "source": [
        "# keys and tokens here\n",
        "openai_api_key = userdata.get('openai_api_key')\n",
        "openai.api_key = openai_api_key\n",
        "cass_user = userdata.get('cass_user')\n",
        "cass_pw = userdata.get('cass_pw')\n",
        "scb_path = '/content/secure-connect-cassio-db.zip'\n",
        "keyspace=\"chatbot\"\n",
        "table=\"wiki_documents\""
      ]
    },
    {
      "cell_type": "markdown",
      "id": "a96369f4-d311-44c2-8469-f960a2a8718a",
      "metadata": {
        "id": "a96369f4-d311-44c2-8469-f960a2a8718a"
      },
      "source": [
        "# Select a model to compute embeddings"
      ]
    },
    {
      "cell_type": "code",
      "execution_count": 4,
      "id": "553fece5-8154-4e18-9610-ff4999bfe171",
      "metadata": {
        "id": "553fece5-8154-4e18-9610-ff4999bfe171"
      },
      "outputs": [],
      "source": [
        "model_id = \"text-embedding-ada-002\""
      ]
    },
    {
      "cell_type": "markdown",
      "id": "bafd4fc1-84a4-4384-bb3e-42ecffab2455",
      "metadata": {
        "id": "bafd4fc1-84a4-4384-bb3e-42ecffab2455"
      },
      "source": [
        "# Connect to the Cluster"
      ]
    },
    {
      "cell_type": "code",
      "execution_count": 5,
      "id": "8c5b0058-391d-421e-81a0-eb2f7fe684df",
      "metadata": {
        "id": "8c5b0058-391d-421e-81a0-eb2f7fe684df",
        "colab": {
          "base_uri": "https://localhost:8080/"
        },
        "outputId": "3fd33d7a-f70c-4dda-f528-b61014dadce6"
      },
      "outputs": [
        {
          "output_type": "execute_result",
          "data": {
            "text/plain": [
              "<cassandra.cluster.Session at 0x7bdcb7293ac0>"
            ]
          },
          "metadata": {},
          "execution_count": 5
        }
      ],
      "source": [
        "cloud_config= {\n",
        "  'secure_connect_bundle': scb_path\n",
        "}\n",
        "auth_provider = PlainTextAuthProvider(cass_user, cass_pw)\n",
        "cluster = Cluster(cloud=cloud_config, auth_provider=auth_provider, protocol_version=4)\n",
        "session = cluster.connect()\n",
        "session.set_keyspace('vector_preview')\n",
        "session"
      ]
    },
    {
      "cell_type": "markdown",
      "id": "0670b30f-927f-47da-b71d-0a99092c3f58",
      "metadata": {
        "id": "0670b30f-927f-47da-b71d-0a99092c3f58"
      },
      "source": [
        "# Drop / Create Schema"
      ]
    },
    {
      "cell_type": "code",
      "execution_count": 6,
      "id": "acf0fd4c-8367-4d5f-983f-5aa7d14a8948",
      "metadata": {
        "colab": {
          "base_uri": "https://localhost:8080/"
        },
        "id": "acf0fd4c-8367-4d5f-983f-5aa7d14a8948",
        "outputId": "f5b3538f-3cc7-43f8-ab58-562b89421e1e"
      },
      "outputs": [
        {
          "output_type": "execute_result",
          "data": {
            "text/plain": [
              "<cassandra.cluster.ResultSet at 0x7bdcb7292aa0>"
            ]
          },
          "metadata": {},
          "execution_count": 6
        }
      ],
      "source": [
        "# only use this to reset the schema\n",
        "session.execute(f\"\"\"DROP INDEX IF EXISTS {keyspace}.openai_desc\"\"\")\n",
        "session.execute(f\"\"\"DROP TABLE IF EXISTS {keyspace}.{table}\"\"\")"
      ]
    },
    {
      "cell_type": "code",
      "execution_count": 7,
      "id": "a941c487-1c6b-4f46-a0a3-305a95931d82",
      "metadata": {
        "colab": {
          "base_uri": "https://localhost:8080/"
        },
        "id": "a941c487-1c6b-4f46-a0a3-305a95931d82",
        "outputId": "c7613524-5b1e-4102-fcc4-00dd50315e66"
      },
      "outputs": [
        {
          "output_type": "execute_result",
          "data": {
            "text/plain": [
              "<cassandra.cluster.ResultSet at 0x7bdcb7290c40>"
            ]
          },
          "metadata": {},
          "execution_count": 7
        }
      ],
      "source": [
        "# # Create Table\n",
        "session.execute(f\"\"\"\n",
        "CREATE TABLE {keyspace}.{table} (\n",
        "    document_id text,\n",
        "\t  chunk_id int,\n",
        "    document_text text,\n",
        "    embedding_vector vector<float, 1536>,\n",
        "    metadata_blob text,\n",
        "\t  PRIMARY KEY (document_id, chunk_id))\n",
        " \"\"\")\n",
        "\n",
        "# # Create Index\n",
        "session.execute(f\"\"\"\n",
        "CREATE CUSTOM INDEX IF NOT EXISTS openai_desc ON {keyspace}.{table} (embedding_vector)\n",
        "USING 'org.apache.cassandra.index.sai.StorageAttachedIndex'\n",
        "\"\"\")\n"
      ]
    },
    {
      "cell_type": "markdown",
      "source": [
        "Load The Wiki page"
      ],
      "metadata": {
        "id": "zzfOR1jG1SED"
      },
      "id": "zzfOR1jG1SED"
    },
    {
      "cell_type": "code",
      "source": [
        "from langchain.document_loaders import UnstructuredHTMLLoader\n",
        "!wget https://en.wikipedia.org/wiki/Andouille\n",
        "loader =  UnstructuredHTMLLoader(\"Andouille\")\n",
        "data = loader.load()\n",
        "#data"
      ],
      "metadata": {
        "colab": {
          "base_uri": "https://localhost:8080/"
        },
        "id": "Y7gQfDWB1ZpO",
        "outputId": "1b23fccc-de04-4996-f172-939ce17fea19"
      },
      "id": "Y7gQfDWB1ZpO",
      "execution_count": 8,
      "outputs": [
        {
          "output_type": "stream",
          "name": "stdout",
          "text": [
            "--2023-11-17 06:48:50--  https://en.wikipedia.org/wiki/Andouille\n",
            "Resolving en.wikipedia.org (en.wikipedia.org)... 208.80.154.224, 2620:0:861:ed1a::1\n",
            "Connecting to en.wikipedia.org (en.wikipedia.org)|208.80.154.224|:443... connected.\n",
            "HTTP request sent, awaiting response... 200 OK\n",
            "Length: 83809 (82K) [text/html]\n",
            "Saving to: ‘Andouille.3’\n",
            "\n",
            "\rAndouille.3           0%[                    ]       0  --.-KB/s               \rAndouille.3         100%[===================>]  81.84K  --.-KB/s    in 0.03s   \n",
            "\n",
            "2023-11-17 06:48:50 (2.33 MB/s) - ‘Andouille.3’ saved [83809/83809]\n",
            "\n"
          ]
        },
        {
          "output_type": "stream",
          "name": "stderr",
          "text": [
            "/usr/local/lib/python3.10/dist-packages/unstructured/documents/html.py:498: FutureWarning: The behavior of this method will change in future versions. Use specific 'len(elem)' or 'elem is not None' test instead.\n",
            "  rows = body.findall(\"tr\") if body else []\n"
          ]
        }
      ]
    },
    {
      "cell_type": "markdown",
      "id": "c1fe256f-9efb-41f0-8803-d99696c6089b",
      "metadata": {
        "id": "c1fe256f-9efb-41f0-8803-d99696c6089b"
      },
      "source": [
        "# Load the table with data and create text embeddings"
      ]
    },
    {
      "cell_type": "code",
      "execution_count": 9,
      "id": "cec8fd49-90b7-4f8f-b6e8-50a34896e452",
      "metadata": {
        "id": "cec8fd49-90b7-4f8f-b6e8-50a34896e452"
      },
      "outputs": [],
      "source": [
        "document_chunk_id = 0\n",
        "for page in data:\n",
        "  # Create Embedding for each conversation row, save them to the database\n",
        "  text_chunk_length = 400\n",
        "  text_chunks = [page.page_content[i:i + text_chunk_length] for i in range(0, len(page.page_content), text_chunk_length)]\n",
        "  for chunk_id, chunk in enumerate(text_chunks):\n",
        "    document_chunk_id += 1\n",
        "    metadata_blob=f\"Source: {page.metadata['source']}\"\n",
        "    embedding = openai.embeddings.create(input=chunk, model=model_id).data[0].embedding\n",
        "    query = SimpleStatement(\n",
        "                f\"\"\"\n",
        "                INSERT INTO {keyspace}.{table}\n",
        "                (document_id, chunk_id, document_text, embedding_vector, metadata_blob)\n",
        "                VALUES (%s, %s, %s, %s, %s)\n",
        "                \"\"\"\n",
        "            )\n",
        "\n",
        "    session.execute(query, (page.metadata['source'], document_chunk_id, chunk, embedding, metadata_blob ))"
      ]
    },
    {
      "cell_type": "markdown",
      "id": "2fc20311-5fde-46b1-b194-4611866f4264",
      "metadata": {
        "id": "2fc20311-5fde-46b1-b194-4611866f4264"
      },
      "source": [
        "\n",
        "\n",
        "---\n",
        "\n",
        "\n",
        "# Start using the index"
      ]
    },
    {
      "cell_type": "markdown",
      "id": "83f833ef-6555-452b-a903-9505c77b75b1",
      "metadata": {
        "id": "83f833ef-6555-452b-a903-9505c77b75b1"
      },
      "source": [
        "In the steps up to this point, we have been creating a schema and loading the table with data, including embeddings we generated through the OpenAI Embedding API.\n",
        "Now we are going to query that table and use the results to give ChatGPT some context to support it's response."
      ]
    },
    {
      "cell_type": "markdown",
      "id": "466ca4e3-7bb6-485b-ac3a-788c1fe3658d",
      "metadata": {
        "id": "466ca4e3-7bb6-485b-ac3a-788c1fe3658d"
      },
      "source": [
        "# Convert a query string into a text embedding to use as part of the query"
      ]
    },
    {
      "cell_type": "markdown",
      "id": "37217051-b389-49eb-8b5b-6efb14d9f8c4",
      "metadata": {
        "id": "37217051-b389-49eb-8b5b-6efb14d9f8c4"
      },
      "source": [
        "First question: \"What is Andouille?\""
      ]
    },
    {
      "cell_type": "code",
      "execution_count": 10,
      "id": "e891b68c-5e31-4b6f-915f-f05f684529b4",
      "metadata": {
        "scrolled": true,
        "id": "e891b68c-5e31-4b6f-915f-f05f684529b4",
        "colab": {
          "base_uri": "https://localhost:8080/"
        },
        "outputId": "84c63c02-eb3a-4340-8413-63ec2af05f3f"
      },
      "outputs": [
        {
          "output_type": "stream",
          "name": "stderr",
          "text": [
            "WARNING:cassandra.protocol:Server warning: Top-K queries can only be run with consistency level ONE / LOCAL_ONE / NODE_LOCAL. Consistency level LOCAL_QUORUM was requested. Downgrading the consistency level to LOCAL_ONE.\n"
          ]
        },
        {
          "output_type": "stream",
          "name": "stdout",
          "text": [
            "Andouille is a type of sausage that is commonly associated with Louisiana cuisine, particularly Creole and Cajun cooking. It originated in France and is made from smoked pork that is seasoned with garlic, pepper, onions, and other spices. Andouille has a unique and robust flavor and is often used in dishes like jambalaya, gumbo, and red beans and rice. It is known for its smoky and spicy taste and is widely enjoyed for its rich and complex flavor profile.\n"
          ]
        }
      ],
      "source": [
        "customer_input = \"What is Andouille?\"\n",
        "\n",
        "embedding = openai.embeddings.create(input=customer_input, model=model_id).data[0].embedding\n",
        "#display(embedding)\n",
        "\n",
        "query = SimpleStatement(\n",
        "    f\"\"\"\n",
        "    SELECT *\n",
        "    FROM {keyspace}.{table}\n",
        "    ORDER BY embedding_vector ANN OF {embedding} LIMIT 5;\n",
        "    \"\"\"\n",
        "    )\n",
        "\n",
        "results = session.execute(query)\n",
        "top_results = results._current_rows\n",
        "\n",
        "message_objects = []\n",
        "message_objects.append({\"role\":\"system\",\n",
        "                        \"content\":\"You're a chatbot answering questions about a web page\"})\n",
        "\n",
        "message_objects.append({\"role\":\"user\",\n",
        "                        \"content\": customer_input})\n",
        "\n",
        "products_list = []\n",
        "\n",
        "for row in top_results:\n",
        "    brand_dict = {'role': \"assistant\", \"content\": f\"{row.document_text}\"}\n",
        "    products_list.append(brand_dict)\n",
        "\n",
        "message_objects.extend(products_list)\n",
        "message_objects.append({\"role\": \"assistant\", \"content\":\"Here's my best answer:\"})\n",
        "\n",
        "completion = openai.chat.completions.create(\n",
        "  model=\"gpt-3.5-turbo\",\n",
        "  messages=message_objects\n",
        ")\n",
        "print(completion.choices[0].message.content)"
      ]
    },
    {
      "cell_type": "markdown",
      "id": "1036a24f-d527-410b-b73c-d2e191b792a5",
      "metadata": {
        "id": "1036a24f-d527-410b-b73c-d2e191b792a5"
      },
      "source": [
        "Second question: \"What temperature should Andouilee be cooked?\""
      ]
    },
    {
      "cell_type": "code",
      "execution_count": 11,
      "id": "ac53ce94-4c34-4523-8f86-55f3a62c8d1b",
      "metadata": {
        "id": "ac53ce94-4c34-4523-8f86-55f3a62c8d1b",
        "colab": {
          "base_uri": "https://localhost:8080/"
        },
        "outputId": "67f30f02-9614-43cc-83fc-bd71287f2c97"
      },
      "outputs": [
        {
          "output_type": "stream",
          "name": "stderr",
          "text": [
            "WARNING:cassandra.protocol:Server warning: Top-K queries can only be run with consistency level ONE / LOCAL_ONE / NODE_LOCAL. Consistency level LOCAL_QUORUM was requested. Downgrading the consistency level to LOCAL_ONE.\n"
          ]
        },
        {
          "output_type": "stream",
          "name": "stdout",
          "text": [
            "Andouille sausage is a type of sausage made from pork, garlic, pepper, onions, wine, and various seasonings. It is traditionally smoked and has a coarse texture. In terms of cooking temperature, it is typically cooked at a moderate heat until it reaches an internal temperature of 160°F (71°C). Cooking times may vary depending on the size and thickness of the sausage. It is always best to use a meat thermometer to ensure the sausage is cooked to the desired temperature.\n"
          ]
        }
      ],
      "source": [
        "customer_input = \"What temperature should Andouille be cooked?\"\n",
        "\n",
        "embedding = openai.embeddings.create(input=customer_input, model=model_id).data[0].embedding\n",
        "#display(embedding)\n",
        "\n",
        "query = SimpleStatement(\n",
        "    f\"\"\"\n",
        "    SELECT *\n",
        "    FROM {keyspace}.{table}\n",
        "    ORDER BY embedding_vector ANN OF {embedding} LIMIT 5;\n",
        "    \"\"\"\n",
        "    )\n",
        "\n",
        "results = session.execute(query)\n",
        "top_results = results._current_rows\n",
        "\n",
        "message_objects = []\n",
        "message_objects.append({\"role\":\"system\",\n",
        "                        \"content\":\"You're a chatbot answering questions about a web page\"})\n",
        "\n",
        "message_objects.append({\"role\":\"user\",\n",
        "                        \"content\": customer_input})\n",
        "\n",
        "products_list = []\n",
        "\n",
        "for row in top_results:\n",
        "    brand_dict = {'role': \"assistant\", \"content\": f\"{row.document_text}\"}\n",
        "    products_list.append(brand_dict)\n",
        "\n",
        "message_objects.extend(products_list)\n",
        "message_objects.append({\"role\": \"assistant\", \"content\":\"Here's my best answer:\"})\n",
        "\n",
        "completion = openai.chat.completions.create(\n",
        "  model=\"gpt-3.5-turbo\",\n",
        "  messages=message_objects\n",
        ")\n",
        "print(completion.choices[0].message.content)"
      ]
    }
  ],
  "metadata": {
    "kernelspec": {
      "display_name": "Python 3 (ipykernel)",
      "language": "python",
      "name": "python3"
    },
    "language_info": {
      "codemirror_mode": {
        "name": "ipython",
        "version": 3
      },
      "file_extension": ".py",
      "mimetype": "text/x-python",
      "name": "python",
      "nbconvert_exporter": "python",
      "pygments_lexer": "ipython3",
      "version": "3.10.6"
    },
    "colab": {
      "provenance": [],
      "include_colab_link": true
    }
  },
  "nbformat": 4,
  "nbformat_minor": 5
}